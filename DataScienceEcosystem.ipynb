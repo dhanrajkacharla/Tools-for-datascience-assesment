{
 "cells": [
  {
   "cell_type": "markdown",
   "id": "a79980f7-38c5-461e-b04d-7a3fe362a99d",
   "metadata": {
    "tags": []
   },
   "source": [
    "# Data Science Tools and Ecosystem"
   ]
  },
  {
   "cell_type": "markdown",
   "id": "2ab350ad-64c0-42c2-ad1b-835263faa323",
   "metadata": {},
   "source": [
    "In this notebook, Data Science Tools and Ecosystem are summarized."
   ]
  },
  {
   "cell_type": "markdown",
   "id": "3fd3749c-6af1-47f1-967b-9036f6428fab",
   "metadata": {},
   "source": [
    "**Objectives:**\n",
    "List popular languages for Data Science:\n",
    "- Python\n",
    "- Sql\n",
    "- Scala\n",
    "- R"
   ]
  },
  {
   "cell_type": "markdown",
   "id": "4cd64c5d-dc17-43ff-b4e4-d9caeae0c488",
   "metadata": {
    "tags": []
   },
   "source": [
    "Some of the popular languages that Data Scientists use are:\n",
    "    1.Python\n",
    "    2.R\n",
    "    3.Scala\n",
    "    4.Julia"
   ]
  },
  {
   "cell_type": "markdown",
   "id": "ec5d9abc-8048-4d80-b47a-f8ac50594607",
   "metadata": {},
   "source": [
    "Some of the commonly used libraries used by Data Scientists include:\n",
    "1.Matplotlib\n",
    "2.Sckit-Learn\n",
    "3.TensorFlow\n",
    "4.seaborn\n"
   ]
  },
  {
   "cell_type": "markdown",
   "id": "e0f8429d-7915-4636-9daf-fb6ed8d004a8",
   "metadata": {},
   "source": [
    "|Data Science Tools|\n",
    "|------------------|\n",
    "|Mysql|\n",
    "|Git|\n",
    "|Hue|"
   ]
  },
  {
   "cell_type": "markdown",
   "id": "00129261-6aef-42c8-80c4-a01a5b4ad8ba",
   "metadata": {},
   "source": [
    "### Below are a few examples of evaluating arithmetic expressions in Python"
   ]
  },
  {
   "cell_type": "code",
   "execution_count": 2,
   "id": "056da58b-113a-4ca8-a2a8-3f032cdf06c4",
   "metadata": {
    "tags": []
   },
   "outputs": [
    {
     "data": {
      "text/plain": [
       "17"
      ]
     },
     "execution_count": 2,
     "metadata": {},
     "output_type": "execute_result"
    }
   ],
   "source": [
    "#This a simple arithmetic expression to mutiply then add integers\n",
    "(3*4)+5"
   ]
  },
  {
   "cell_type": "code",
   "execution_count": 4,
   "id": "7d37f281-f0c7-4aec-8623-02b0e76d7e40",
   "metadata": {
    "tags": []
   },
   "outputs": [
    {
     "name": "stdout",
     "output_type": "stream",
     "text": [
      "hours:  3.3333333333333335\n"
     ]
    }
   ],
   "source": [
    "#This will convert 200 minutes to hours by diving by 60\n",
    "minutes=200\n",
    "hours=200/60\n",
    "print('hours: ',hours)"
   ]
  },
  {
   "cell_type": "markdown",
   "id": "746b0feb-897e-475a-b509-ef20906919ad",
   "metadata": {},
   "source": [
    "## Author\n",
    "Kacharla Dhanraj"
   ]
  }
 ],
 "metadata": {
  "kernelspec": {
   "display_name": "Python",
   "language": "python",
   "name": "conda-env-python-py"
  },
  "language_info": {
   "codemirror_mode": {
    "name": "ipython",
    "version": 3
   },
   "file_extension": ".py",
   "mimetype": "text/x-python",
   "name": "python",
   "nbconvert_exporter": "python",
   "pygments_lexer": "ipython3",
   "version": "3.7.12"
  }
 },
 "nbformat": 4,
 "nbformat_minor": 5
}
